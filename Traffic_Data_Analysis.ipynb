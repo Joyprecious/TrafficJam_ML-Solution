{
 "cells": [
  {
   "cell_type": "markdown",
   "metadata": {},
   "source": [
    "# Traffic Data Analysis and Preprocessing\n",
    "This notebook demonstrates data collection, exploration, and preprocessing for predicting traffic flow in Nairobi, Kenya."
   ]
  },
  {
   "cell_type": "code",
   "execution_count": 1,
   "metadata": {},
   "outputs": [
    {
     "name": "stderr",
     "output_type": "stream",
     "text": [
      "Matplotlib is building the font cache; this may take a moment.\n"
     ]
    }
   ],
   "source": [
    "# Import necessary libraries\n",
    "import pandas as pd\n",
    "import numpy as np\n",
    "import matplotlib.pyplot as plt\n",
    "import seaborn as sns\n",
    "from sklearn.preprocessing import MinMaxScaler\n"
   ]
  },
  {
   "cell_type": "markdown",
   "metadata": {},
   "source": [
    "## Step 1: Load Data\n",
    "Simulating the loading of datasets for traffic data, weather data, and road incidents."
   ]
  },
  {
   "cell_type": "code",
   "execution_count": 2,
   "metadata": {},
   "outputs": [
    {
     "name": "stdout",
     "output_type": "stream",
     "text": [
      "Traffic Data:\n"
     ]
    },
    {
     "data": {
      "text/html": [
       "<div>\n",
       "<style scoped>\n",
       "    .dataframe tbody tr th:only-of-type {\n",
       "        vertical-align: middle;\n",
       "    }\n",
       "\n",
       "    .dataframe tbody tr th {\n",
       "        vertical-align: top;\n",
       "    }\n",
       "\n",
       "    .dataframe thead th {\n",
       "        text-align: right;\n",
       "    }\n",
       "</style>\n",
       "<table border=\"1\" class=\"dataframe\">\n",
       "  <thead>\n",
       "    <tr style=\"text-align: right;\">\n",
       "      <th></th>\n",
       "      <th>timestamp</th>\n",
       "      <th>road</th>\n",
       "      <th>speed</th>\n",
       "      <th>congestion</th>\n",
       "    </tr>\n",
       "  </thead>\n",
       "  <tbody>\n",
       "    <tr>\n",
       "      <th>0</th>\n",
       "      <td>2023-01-01 00:00:00</td>\n",
       "      <td>A104</td>\n",
       "      <td>50</td>\n",
       "      <td>0.6</td>\n",
       "    </tr>\n",
       "    <tr>\n",
       "      <th>1</th>\n",
       "      <td>2023-01-01 01:00:00</td>\n",
       "      <td>B15</td>\n",
       "      <td>45</td>\n",
       "      <td>0.7</td>\n",
       "    </tr>\n",
       "    <tr>\n",
       "      <th>2</th>\n",
       "      <td>2023-01-01 02:00:00</td>\n",
       "      <td>C56</td>\n",
       "      <td>35</td>\n",
       "      <td>0.9</td>\n",
       "    </tr>\n",
       "    <tr>\n",
       "      <th>3</th>\n",
       "      <td>2023-01-01 03:00:00</td>\n",
       "      <td>A104</td>\n",
       "      <td>60</td>\n",
       "      <td>0.4</td>\n",
       "    </tr>\n",
       "    <tr>\n",
       "      <th>4</th>\n",
       "      <td>2023-01-01 04:00:00</td>\n",
       "      <td>B15</td>\n",
       "      <td>55</td>\n",
       "      <td>0.5</td>\n",
       "    </tr>\n",
       "  </tbody>\n",
       "</table>\n",
       "</div>"
      ],
      "text/plain": [
       "            timestamp  road  speed  congestion\n",
       "0 2023-01-01 00:00:00  A104     50         0.6\n",
       "1 2023-01-01 01:00:00   B15     45         0.7\n",
       "2 2023-01-01 02:00:00   C56     35         0.9\n",
       "3 2023-01-01 03:00:00  A104     60         0.4\n",
       "4 2023-01-01 04:00:00   B15     55         0.5"
      ]
     },
     "metadata": {},
     "output_type": "display_data"
    },
    {
     "name": "stdout",
     "output_type": "stream",
     "text": [
      "Weather Data:\n"
     ]
    },
    {
     "data": {
      "text/html": [
       "<div>\n",
       "<style scoped>\n",
       "    .dataframe tbody tr th:only-of-type {\n",
       "        vertical-align: middle;\n",
       "    }\n",
       "\n",
       "    .dataframe tbody tr th {\n",
       "        vertical-align: top;\n",
       "    }\n",
       "\n",
       "    .dataframe thead th {\n",
       "        text-align: right;\n",
       "    }\n",
       "</style>\n",
       "<table border=\"1\" class=\"dataframe\">\n",
       "  <thead>\n",
       "    <tr style=\"text-align: right;\">\n",
       "      <th></th>\n",
       "      <th>timestamp</th>\n",
       "      <th>temperature</th>\n",
       "      <th>rainfall</th>\n",
       "    </tr>\n",
       "  </thead>\n",
       "  <tbody>\n",
       "    <tr>\n",
       "      <th>0</th>\n",
       "      <td>2023-01-01 00:00:00</td>\n",
       "      <td>22</td>\n",
       "      <td>0</td>\n",
       "    </tr>\n",
       "    <tr>\n",
       "      <th>1</th>\n",
       "      <td>2023-01-01 01:00:00</td>\n",
       "      <td>23</td>\n",
       "      <td>0</td>\n",
       "    </tr>\n",
       "    <tr>\n",
       "      <th>2</th>\n",
       "      <td>2023-01-01 02:00:00</td>\n",
       "      <td>21</td>\n",
       "      <td>10</td>\n",
       "    </tr>\n",
       "    <tr>\n",
       "      <th>3</th>\n",
       "      <td>2023-01-01 03:00:00</td>\n",
       "      <td>20</td>\n",
       "      <td>15</td>\n",
       "    </tr>\n",
       "    <tr>\n",
       "      <th>4</th>\n",
       "      <td>2023-01-01 04:00:00</td>\n",
       "      <td>19</td>\n",
       "      <td>0</td>\n",
       "    </tr>\n",
       "  </tbody>\n",
       "</table>\n",
       "</div>"
      ],
      "text/plain": [
       "            timestamp  temperature  rainfall\n",
       "0 2023-01-01 00:00:00           22         0\n",
       "1 2023-01-01 01:00:00           23         0\n",
       "2 2023-01-01 02:00:00           21        10\n",
       "3 2023-01-01 03:00:00           20        15\n",
       "4 2023-01-01 04:00:00           19         0"
      ]
     },
     "metadata": {},
     "output_type": "display_data"
    }
   ],
   "source": [
    "# Load datasets (simulated with sample data)\n",
    "traffic_data = pd.DataFrame({\n",
    "    'timestamp': pd.date_range(start='2023-01-01', periods=10, freq='H'),\n",
    "    'road': ['A104', 'B15', 'C56', 'A104', 'B15', 'C56', 'A104', 'B15', 'C56', 'A104'],\n",
    "    'speed': [50, 45, 35, 60, 55, 40, 48, 38, 32, 55],\n",
    "    'congestion': [0.6, 0.7, 0.9, 0.4, 0.5, 0.8, 0.65, 0.85, 0.95, 0.5]\n",
    "})\n",
    "weather_data = pd.DataFrame({\n",
    "    'timestamp': pd.date_range(start='2023-01-01', periods=10, freq='H'),\n",
    "    'temperature': [22, 23, 21, 20, 19, 18, 17, 22, 25, 27],\n",
    "    'rainfall': [0, 0, 10, 15, 0, 0, 5, 0, 20, 30]\n",
    "})\n",
    "\n",
    "# Display the first few rows of traffic data\n",
    "print(\"Traffic Data:\")\n",
    "display(traffic_data.head())\n",
    "\n",
    "# Display the first few rows of weather data\n",
    "print(\"Weather Data:\")\n",
    "display(weather_data.head())\n"
   ]
  },
  {
   "cell_type": "markdown",
   "metadata": {},
   "source": [
    "## Step 2: Data Exploration\n",
    "Examine the structure and distribution of the datasets."
   ]
  },
  {
   "cell_type": "code",
   "execution_count": 3,
   "metadata": {},
   "outputs": [
    {
     "name": "stdout",
     "output_type": "stream",
     "text": [
      "Missing Values in Traffic Data:\n",
      "timestamp     0\n",
      "road          0\n",
      "speed         0\n",
      "congestion    0\n",
      "dtype: int64\n",
      "Missing Values in Weather Data:\n",
      "timestamp      0\n",
      "temperature    0\n",
      "rainfall       0\n",
      "dtype: int64\n",
      "Traffic Data Summary:\n",
      "           speed  congestion\n",
      "count  10.000000   10.000000\n",
      "mean   45.800000    0.685000\n",
      "std     9.402127    0.187157\n",
      "min    32.000000    0.400000\n",
      "25%    38.500000    0.525000\n",
      "50%    46.500000    0.675000\n",
      "75%    53.750000    0.837500\n",
      "max    60.000000    0.950000\n"
     ]
    },
    {
     "data": {
      "image/png": "[encoded data removed]",
      "text/plain": [
       "<Figure size 432x288 with 1 Axes>"
      ]
     },
     "metadata": {
      "needs_background": "light"
     },
     "output_type": "display_data"
    }
   ],
   "source": [
    "# Check for missing values\n",
    "print(\"Missing Values in Traffic Data:\")\n",
    "print(traffic_data.isnull().sum())\n",
    "\n",
    "print(\"Missing Values in Weather Data:\")\n",
    "print(weather_data.isnull().sum())\n",
    "\n",
    "# Summary statistics\n",
    "print(\"Traffic Data Summary:\")\n",
    "print(traffic_data.describe())\n",
    "\n",
    "# Visualize congestion levels\n",
    "sns.histplot(traffic_data['congestion'], kde=True)\n",
    "plt.title(\"Congestion Level Distribution\")\n",
    "plt.xlabel(\"Congestion Level\")\n",
    "plt.ylabel(\"Frequency\")\n",
    "plt.show()"
   ]
  },
  {
   "cell_type": "markdown",
   "metadata": {},
   "source": [
    "## Step 3: Data Preprocessing\n",
    "Clean and prepare the datasets for analysis."
   ]
  },
  {
   "cell_type": "code",
   "execution_count": 4,
   "metadata": {},
   "outputs": [
    {
     "name": "stderr",
     "output_type": "stream",
     "text": [
      "<ipython-input-4-98c326acae49>:2: FutureWarning: DataFrame.mean and DataFrame.median with numeric_only=None will include datetime64 and datetime64tz columns in a future version.\n",
      "  traffic_data.fillna(traffic_data.mean(), inplace=True)\n",
      "<ipython-input-4-98c326acae49>:3: FutureWarning: DataFrame.mean and DataFrame.median with numeric_only=None will include datetime64 and datetime64tz columns in a future version.\n",
      "  weather_data.fillna(weather_data.mean(), inplace=True)\n"
     ]
    },
    {
     "name": "stdout",
     "output_type": "stream",
     "text": [
      "Data preprocessing completed. Cleaned data saved.\n"
     ]
    }
   ],
   "source": [
    "# Handle missing values (if any)\n",
    "traffic_data.fillna(traffic_data.mean(), inplace=True)\n",
    "weather_data.fillna(weather_data.mean(), inplace=True)\n",
    "\n",
    "# Feature scaling for numerical columns\n",
    "scaler = MinMaxScaler()\n",
    "traffic_data[['speed', 'congestion']] = scaler.fit_transform(traffic_data[['speed', 'congestion']])\n",
    "\n",
    "# Save cleaned data\n",
    "traffic_data.to_csv(\"cleaned_traffic_data.csv\", index=False)\n",
    "print(\"Data preprocessing completed. Cleaned data saved.\")"
   ]
  },
  {
   "cell_type": "code",
   "execution_count": null,
   "metadata": {},
   "outputs": [],
   "source": []
  }
 ],
 "metadata": {
  "kernelspec": {
   "display_name": "Python 3",
   "language": "python",
   "name": "python3"
  },
  "language_info": {
   "codemirror_mode": {
    "name": "ipython",
    "version": 3
   },
   "file_extension": ".py",
   "mimetype": "text/x-python",
   "name": "python",
   "nbconvert_exporter": "python",
   "pygments_lexer": "ipython3",
   "version": "3.8.8"
  }
 },
 "nbformat": 4,
 "nbformat_minor": 4
}
